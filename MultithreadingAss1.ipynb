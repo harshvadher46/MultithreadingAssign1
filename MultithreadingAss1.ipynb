{
 "cells": [
  {
   "cell_type": "code",
   "execution_count": 1,
   "id": "66939d8b-2f1f-4bc2-9da9-0e487df06028",
   "metadata": {},
   "outputs": [
    {
     "ename": "SyntaxError",
     "evalue": "incomplete input (42658369.py, line 5)",
     "output_type": "error",
     "traceback": [
      "\u001b[0;36m  Cell \u001b[0;32mIn[1], line 5\u001b[0;36m\u001b[0m\n\u001b[0;31m    '''Multithreading is used for several purposes in Python, including\u001b[0m\n\u001b[0m    ^\u001b[0m\n\u001b[0;31mSyntaxError\u001b[0m\u001b[0;31m:\u001b[0m incomplete input\n"
     ]
    }
   ],
   "source": [
    "#Q-1 ANS\n",
    "''' Multithreading in Python refers to the concurrent execution of multiple threads within a single process.'''\n",
    "''' Python provides a built-in module called threading to handle threads. \n",
    "    The threading module allows you to create and manage threads in Python programs.'''\n",
    "'''Multithreading is used for several purposes in Python, including\n",
    "1.Improved Responsiveness \n",
    "2.Parallelism\n",
    "3.Concurrent I/O"
   ]
  },
  {
   "cell_type": "code",
   "execution_count": 7,
   "id": "1c6c38b9-e086-42b2-a1d7-79b11eef9399",
   "metadata": {},
   "outputs": [
    {
     "ename": "IndentationError",
     "evalue": "unexpected indent (1452317233.py, line 3)",
     "output_type": "error",
     "traceback": [
      "\u001b[0;36m  Cell \u001b[0;32mIn[7], line 3\u001b[0;36m\u001b[0m\n\u001b[0;31m    '''The activeCount() function is used to get the number of Thread objects currently alive.\u001b[0m\n\u001b[0m    ^\u001b[0m\n\u001b[0;31mIndentationError\u001b[0m\u001b[0;31m:\u001b[0m unexpected indent\n"
     ]
    }
   ],
   "source": [
    "#Q-2 ANS\n",
    "'1.activeCount()'\n",
    "    '''The activeCount() function is used to get the number of Thread objects currently alive.\n",
    "    It returns the total number of thread objects that are currently running, including the main thread.'''\n",
    "import threading\n",
    "def my_function():\n",
    "    pass\n",
    "\n",
    "# Create multiple threads\n",
    "thread1 = threading.Thread(target=my_function)\n",
    "thread2 = threading.Thread(target=my_function)\n",
    "\n",
    "# Start the threads\n",
    "thread1.start()\n",
    "thread2.start()\n",
    "\n",
    "# Get the number of active threads\n",
    "active_threads = threading.activeCount()\n",
    "print(\"Active threads:\", active_threads)\n",
    "\n",
    "'''2.currentThread():\n",
    "The currentThread() function is used to get the current Thread object for the calling thread.\n",
    "It returns a reference to the Thread object representing the thread from which it is called.'''\n",
    "import threading\n",
    "\n",
    "def my_function():\n",
    "    current_thread = threading.currentThread()\n",
    "    print(\"Current thread name:\", current_thread.name)\n",
    "\n",
    "# Create a thread\n",
    "thread = threading.Thread(target=my_function)\n",
    "\n",
    "# Start the thread\n",
    "thread.start()\n",
    "\n",
    "'''3.enumerate():\n",
    "\n",
    "The enumerate() function returns a list of all active Thread objects. \n",
    "It provides a way to enumerate and access all the threads that are currently running in the program.\n",
    "Each Thread object in the list can be used to access information about individual threads.'''\n",
    "\n",
    "import threading\n",
    "\n",
    "def my_function():\n",
    "    pass\n",
    "\n",
    "# Create multiple threads\n",
    "thread1 = threading.Thread(target=my_function)\n",
    "thread2 = threading.Thread(target=my_function)\n",
    "\n",
    "# Start the threads\n",
    "thread1.start()\n",
    "thread2.start()\n",
    "\n",
    "# Enumerate and print information about active threads\n",
    "for thread in threading.enumerate():\n",
    "    print(\"Thread name:\", thread.name, \"Thread ID:\", thread.ident)\n"
   ]
  },
  {
   "cell_type": "code",
   "execution_count": 13,
   "id": "d6d4a2a2-77bb-49cd-aed0-d2356c93d1e2",
   "metadata": {},
   "outputs": [
    {
     "name": "stdout",
     "output_type": "stream",
     "text": [
      "Thread is running\n",
      "Thread is still running\n"
     ]
    }
   ],
   "source": [
    "#Q-3 ANS\n",
    "''' 1. run()\n",
    "The run() method is a user-defined method that is called when you start a thread using the start() method. You should override this method in your custom thread class to define the behavior of the thread.\n",
    "When you call start(), it, in turn, calls the run() method in a separate thread of execution.'''\n",
    "import threading\n",
    "\n",
    "class MyThread(threading.Thread):\n",
    "    def run(self):\n",
    "        # Define the behavior of the thread here\n",
    "        print(\"Thread is running\")\n",
    "\n",
    "my_thread = MyThread()\n",
    "my_thread.start()  # This calls the run() method in a separate thread\n",
    "\n",
    "'''2.start()\n",
    "The start() method is used to start a new thread and execute the run() method in that thread. It initiates the thread's execution and allows it to run concurrently with other threads.\n",
    "You can only call start() once for a thread; subsequent calls will raise an error.'''\n",
    "import threading\n",
    "\n",
    "def my_function():\n",
    "    pass\n",
    "\n",
    "thread = threading.Thread(target=my_function)\n",
    "thread.start()  # Start the thread's execution\n",
    "\n",
    "''' 3. join()\n",
    "The join() method is used to make the current thread wait for the specified thread to finish its execution.\n",
    "When you call join() on a thread, the calling thread will pause and wait until the target thread is done.'''\n",
    "import threading\n",
    "\n",
    "def my_function():\n",
    "    pass\n",
    "\n",
    "thread = threading.Thread(target=my_function)\n",
    "thread.start()  # Start the thread's execution\n",
    "\n",
    "# Wait for the thread to finish\n",
    "thread.join()\n",
    "\n",
    "'''4.isAlive()\n",
    "\n",
    "The isAlive() method is used to check whether a thread is currently running.\n",
    "It returns True if the thread is still executing and False if the thread has finished its execution.'''\n",
    "import threading\n",
    "import time\n",
    "\n",
    "def my_function():\n",
    "    time.sleep(2)\n",
    "\n",
    "thread = threading.Thread(target=my_function)\n",
    "thread.start()  # Start the thread's execution\n",
    "\n",
    "time.sleep(1)  # Pause for 1 second\n",
    "\n",
    "if thread.is_alive():\n",
    "    print(\"Thread is still running\")\n",
    "else:\n",
    "    print(\"Thread has finished\")\n"
   ]
  },
  {
   "cell_type": "code",
   "execution_count": 15,
   "id": "d6fada66-f148-493c-bb8f-e84a5bb43f6f",
   "metadata": {},
   "outputs": [
    {
     "name": "stdout",
     "output_type": "stream",
     "text": [
      "Square of 1 is 1\n",
      "Square of 2 is 4\n",
      "Square of 3 is 9\n",
      "Square of 4 is 16\n",
      "Square of 5 is 25\n",
      "Cube of 1 is 1\n",
      "Cube of 2 is 8\n",
      "Cube of 3 is 27\n",
      "Cube of 4 is 64\n",
      "Cube of 5 is 125\n",
      "Both threads have finished.\n"
     ]
    }
   ],
   "source": [
    "#Q.4 ANS\n",
    "\n",
    "import threading\n",
    "\n",
    "def print_squares():\n",
    "    for i in range(1, 6):\n",
    "        print(f\"Square of {i} is {i**2}\")\n",
    "\n",
    "def print_cubes():\n",
    "    for i in range(1, 6):\n",
    "        print(f\"Cube of {i} is {i**3}\")\n",
    "\n",
    "# Create two threads\n",
    "thread1 = threading.Thread(target=print_squares)\n",
    "thread2 = threading.Thread(target=print_cubes)\n",
    "\n",
    "# Start the threads\n",
    "thread1.start()\n",
    "thread2.start()\n",
    "\n",
    "# Wait for both threads to finish\n",
    "thread1.join()\n",
    "thread2.join()\n",
    "\n",
    "print(\"Both threads have finished.\")\n"
   ]
  },
  {
   "cell_type": "code",
   "execution_count": 16,
   "id": "d7366f3a-d999-4f41-b3d1-0dc8f6b12b56",
   "metadata": {},
   "outputs": [
    {
     "data": {
      "text/plain": [
       "'Advantages of Multithreading:\\n    Improved Responsiveness:\\n    Better Utilization of CPU\\n    Resource Sharing\\n    Efficient I/O Operations\\n    Parallelism\\nDisadvantages of Multithreading:\\n    Complexity:\\n    Resource Overhead\\n    Race Conditions\\n    Deadlocks\\n    Thread Safety'"
      ]
     },
     "execution_count": 16,
     "metadata": {},
     "output_type": "execute_result"
    }
   ],
   "source": [
    "#Q-5-ANS\n",
    "'''Advantages of Multithreading:\n",
    "    Improved Responsiveness:\n",
    "    Better Utilization of CPU\n",
    "    Resource Sharing\n",
    "    Efficient I/O Operations\n",
    "    Parallelism\n",
    "Disadvantages of Multithreading:\n",
    "    Complexity:\n",
    "    Resource Overhead\n",
    "    Race Conditions\n",
    "    Deadlocks\n",
    "    Thread Safety'''"
   ]
  },
  {
   "cell_type": "code",
   "execution_count": 19,
   "id": "4a9c1715-5bbc-4d31-b2bf-26b4fec1f31d",
   "metadata": {},
   "outputs": [
    {
     "data": {
      "text/plain": [
       "\"Deadlocks and race conditions are common concurrency issues in multithreaded or multi-process applications. \\nThey can lead to unexpected and undesirable behavior when multiple threads or processes access shared resources concurrently.\\nLet's explore each of these issues:\\n Mutual Exclusion\\n Hold and Wait\\n No Preemption\\n Circular Wait\\n \\nRace Conditions:A race condition occurs when the behavior of a program depends on the relative timing of events, \\ntypically involving multiple threads or processesRace conditions typically arise when multiple threads access shared resources without proper synchronization,\\nand they can manifest in various ways:\\n Read-Modify-Write Conflicts\\n Lost Updates\\n Non-Atomic Operations\\n Ordering Issues\""
      ]
     },
     "execution_count": 19,
     "metadata": {},
     "output_type": "execute_result"
    }
   ],
   "source": [
    "'''Deadlocks and race conditions are common concurrency issues in multithreaded or multi-process applications. \n",
    "They can lead to unexpected and undesirable behavior when multiple threads or processes access shared resources concurrently.\n",
    "Let's explore each of these issues:\n",
    " Mutual Exclusion\n",
    " Hold and Wait\n",
    " No Preemption\n",
    " Circular Wait\n",
    " \n",
    "Race Conditions:A race condition occurs when the behavior of a program depends on the relative timing of events, \n",
    "typically involving multiple threads or processesRace conditions typically arise when multiple threads access shared resources without proper synchronization,\n",
    "and they can manifest in various ways:\n",
    " Read-Modify-Write Conflicts\n",
    " Lost Updates\n",
    " Non-Atomic Operations\n",
    " Ordering Issues'''"
   ]
  },
  {
   "cell_type": "code",
   "execution_count": null,
   "id": "9a45624f-c830-4b99-8b8b-6ed33cb3d47c",
   "metadata": {},
   "outputs": [],
   "source": []
  }
 ],
 "metadata": {
  "kernelspec": {
   "display_name": "Python 3 (ipykernel)",
   "language": "python",
   "name": "python3"
  },
  "language_info": {
   "codemirror_mode": {
    "name": "ipython",
    "version": 3
   },
   "file_extension": ".py",
   "mimetype": "text/x-python",
   "name": "python",
   "nbconvert_exporter": "python",
   "pygments_lexer": "ipython3",
   "version": "3.10.8"
  }
 },
 "nbformat": 4,
 "nbformat_minor": 5
}
